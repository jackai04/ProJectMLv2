{
  "nbformat": 4,
  "nbformat_minor": 0,
  "metadata": {
    "colab": {
      "provenance": [],
      "gpuType": "T4"
    },
    "kernelspec": {
      "name": "python3",
      "display_name": "Python 3"
    },
    "language_info": {
      "name": "python"
    },
    "accelerator": "GPU"
  },
  "cells": [
    {
      "cell_type": "code",
      "source": [
        "import torch\n",
        "import torch.nn as nn\n",
        "import torch.optim as optim\n",
        "from torch.utils.data import DataLoader, random_split\n",
        "from torchvision import datasets, transforms\n",
        "import matplotlib.pyplot as plt\n",
        "import os\n",
        "from datetime import datetime\n",
        "from torchsummary import summary"
      ],
      "metadata": {
        "id": "Ey2eDAPErTrn"
      },
      "execution_count": 21,
      "outputs": []
    },
    {
      "cell_type": "code",
      "source": [
        "device = torch.device(\"cuda\" if torch.cuda.is_available() else \"cpu\")\n",
        "transform_train = transforms.Compose([\n",
        "    #transforms.RandomCrop(32, padding=4),\n",
        "    #transforms.RandomHorizontalFlip(),\n",
        "    transforms.ToTensor(),\n",
        "    transforms.Normalize((0.4914, 0.4822, 0.4465),\n",
        "                         (0.2470, 0.2435, 0.2616))\n",
        "])\n",
        "\n",
        "transform_test = transforms.Compose([\n",
        "    transforms.ToTensor(),\n",
        "    transforms.Normalize((0.4914, 0.4822, 0.4465),\n",
        "                         (0.2470, 0.2435, 0.2616))\n",
        "])\n",
        "\n",
        "\n",
        "train_dataset_full = datasets.CIFAR10(root='./data', train=True, download=True, transform=transform_train)\n",
        "test_dataset = datasets.CIFAR10(root='./data', train=False, download=True, transform=transform_test)"
      ],
      "metadata": {
        "id": "I7yLo4D7rfLd"
      },
      "execution_count": 22,
      "outputs": []
    },
    {
      "cell_type": "code",
      "source": [
        "val_size = int(len(train_dataset_full) * 0.2)\n",
        "train_size = len(train_dataset_full) - val_size\n",
        "train_dataset, val_dataset = random_split(\n",
        "    train_dataset_full, [train_size, val_size],\n",
        "    generator=torch.Generator().manual_seed(42)\n",
        ")\n",
        "\n",
        "train_loader = DataLoader(train_dataset, batch_size=128, shuffle=True, num_workers=2)\n",
        "val_loader = DataLoader(val_dataset, batch_size=128, shuffle=False, num_workers=2)\n",
        "test_loader = DataLoader(test_dataset, batch_size=128, shuffle=False, num_workers=2)\n",
        "\n",
        "print(f\"Train: {len(train_dataset)}, Val: {len(val_dataset)}, Test: {len(test_dataset)}\")"
      ],
      "metadata": {
        "colab": {
          "base_uri": "https://localhost:8080/"
        },
        "id": "DI2rYLUjrooj",
        "outputId": "cb348048-6afe-4acf-ce7e-4ea35913eaf9"
      },
      "execution_count": 23,
      "outputs": [
        {
          "output_type": "stream",
          "name": "stdout",
          "text": [
            "Train: 40000, Val: 10000, Test: 10000\n"
          ]
        }
      ]
    },
    {
      "cell_type": "code",
      "source": [
        "class BetterCNN(nn.Module):\n",
        "    def __init__(self):\n",
        "        super(BetterCNN, self).__init__()\n",
        "        self.features = nn.Sequential(\n",
        "            nn.Conv2d(3, 64, 3, padding=1),\n",
        "            nn.BatchNorm2d(64), nn.ReLU(),\n",
        "            nn.Conv2d(64, 64, 3, padding=1),\n",
        "            nn.BatchNorm2d(64), nn.ReLU(),\n",
        "            nn.MaxPool2d(2, 2), nn.Dropout(0.25),\n",
        "\n",
        "            nn.Conv2d(64, 128, 3, padding=1),\n",
        "            nn.BatchNorm2d(128), nn.ReLU(),\n",
        "            nn.Conv2d(128, 128, 3, padding=1),\n",
        "            nn.BatchNorm2d(128), nn.ReLU(),\n",
        "            nn.MaxPool2d(2, 2), nn.Dropout(0.25),\n",
        "\n",
        "            nn.Conv2d(128, 256, 3, padding=1),\n",
        "            nn.BatchNorm2d(256), nn.ReLU(),\n",
        "            nn.Conv2d(256, 256, 3, padding=1),\n",
        "            nn.BatchNorm2d(256), nn.ReLU(),\n",
        "            nn.MaxPool2d(2, 2), nn.Dropout(0.25)\n",
        "        )\n",
        "\n",
        "        self.classifier = nn.Sequential(\n",
        "            nn.Flatten(),\n",
        "            nn.Linear(256 * 4 * 4, 512),\n",
        "            nn.ReLU(),\n",
        "            nn.Dropout(0.5),\n",
        "            nn.Linear(512, 10)\n",
        "        )\n",
        "\n",
        "    def forward(self, x):\n",
        "        x = self.features(x)\n",
        "        x = self.classifier(x)\n",
        "        return x\n",
        "\n",
        "model = BetterCNN().to(device)\n",
        "summary(model, (3, 32, 32))"
      ],
      "metadata": {
        "colab": {
          "base_uri": "https://localhost:8080/"
        },
        "id": "2Pidk_Tgrzrz",
        "outputId": "f11daa9b-c2e8-466b-a2bf-7ad099968b11"
      },
      "execution_count": 24,
      "outputs": [
        {
          "output_type": "stream",
          "name": "stdout",
          "text": [
            "----------------------------------------------------------------\n",
            "        Layer (type)               Output Shape         Param #\n",
            "================================================================\n",
            "            Conv2d-1           [-1, 64, 32, 32]           1,792\n",
            "       BatchNorm2d-2           [-1, 64, 32, 32]             128\n",
            "              ReLU-3           [-1, 64, 32, 32]               0\n",
            "            Conv2d-4           [-1, 64, 32, 32]          36,928\n",
            "       BatchNorm2d-5           [-1, 64, 32, 32]             128\n",
            "              ReLU-6           [-1, 64, 32, 32]               0\n",
            "         MaxPool2d-7           [-1, 64, 16, 16]               0\n",
            "           Dropout-8           [-1, 64, 16, 16]               0\n",
            "            Conv2d-9          [-1, 128, 16, 16]          73,856\n",
            "      BatchNorm2d-10          [-1, 128, 16, 16]             256\n",
            "             ReLU-11          [-1, 128, 16, 16]               0\n",
            "           Conv2d-12          [-1, 128, 16, 16]         147,584\n",
            "      BatchNorm2d-13          [-1, 128, 16, 16]             256\n",
            "             ReLU-14          [-1, 128, 16, 16]               0\n",
            "        MaxPool2d-15            [-1, 128, 8, 8]               0\n",
            "          Dropout-16            [-1, 128, 8, 8]               0\n",
            "           Conv2d-17            [-1, 256, 8, 8]         295,168\n",
            "      BatchNorm2d-18            [-1, 256, 8, 8]             512\n",
            "             ReLU-19            [-1, 256, 8, 8]               0\n",
            "           Conv2d-20            [-1, 256, 8, 8]         590,080\n",
            "      BatchNorm2d-21            [-1, 256, 8, 8]             512\n",
            "             ReLU-22            [-1, 256, 8, 8]               0\n",
            "        MaxPool2d-23            [-1, 256, 4, 4]               0\n",
            "          Dropout-24            [-1, 256, 4, 4]               0\n",
            "          Flatten-25                 [-1, 4096]               0\n",
            "           Linear-26                  [-1, 512]       2,097,664\n",
            "             ReLU-27                  [-1, 512]               0\n",
            "          Dropout-28                  [-1, 512]               0\n",
            "           Linear-29                   [-1, 10]           5,130\n",
            "================================================================\n",
            "Total params: 3,249,994\n",
            "Trainable params: 3,249,994\n",
            "Non-trainable params: 0\n",
            "----------------------------------------------------------------\n",
            "Input size (MB): 0.01\n",
            "Forward/backward pass size (MB): 5.73\n",
            "Params size (MB): 12.40\n",
            "Estimated Total Size (MB): 18.14\n",
            "----------------------------------------------------------------\n"
          ]
        }
      ]
    },
    {
      "cell_type": "code",
      "source": [
        "criterion = nn.CrossEntropyLoss()\n",
        "optimizer = optim.Adam(model.parameters(), lr=0.001, weight_decay=1e-4)\n",
        "scheduler = optim.lr_scheduler.ReduceLROnPlateau(optimizer, mode='min', patience=3, factor=0.5)"
      ],
      "metadata": {
        "id": "mzmTLcnMr_eg"
      },
      "execution_count": 26,
      "outputs": []
    },
    {
      "cell_type": "code",
      "source": [
        "def train_model(model, train_loader, val_loader, criterion, optimizer, scheduler, num_epochs=30):\n",
        "    train_loss_list, val_loss_list = [], []\n",
        "    train_acc_list, val_acc_list = [], []\n",
        "\n",
        "    best_val_acc = 0.0\n",
        "    best_model_wts = None\n",
        "\n",
        "    for epoch in range(num_epochs):\n",
        "        model.train()\n",
        "        running_loss, running_correct, total = 0.0, 0, 0\n",
        "\n",
        "        for images, labels in train_loader:\n",
        "            images, labels = images.to(device), labels.to(device)\n",
        "            optimizer.zero_grad()\n",
        "            outputs = model(images)\n",
        "            loss = criterion(outputs, labels)\n",
        "            loss.backward()\n",
        "            optimizer.step()\n",
        "\n",
        "            running_loss += loss.item() * images.size(0)\n",
        "            _, preds = torch.max(outputs, 1)\n",
        "            running_correct += (preds == labels).sum().item()\n",
        "            total += labels.size(0)\n",
        "\n",
        "        train_loss = running_loss / total\n",
        "        train_acc = running_correct / total\n",
        "\n",
        "        # ===== Validation =====\n",
        "        model.eval()\n",
        "        val_loss, val_correct, val_total = 0.0, 0, 0\n",
        "        with torch.no_grad():\n",
        "            for images, labels in val_loader:\n",
        "                images, labels = images.to(device), labels.to(device)\n",
        "                outputs = model(images)\n",
        "                loss = criterion(outputs, labels)\n",
        "                val_loss += loss.item() * images.size(0)\n",
        "                _, preds = torch.max(outputs, 1)\n",
        "                val_correct += (preds == labels).sum().item()\n",
        "                val_total += labels.size(0)\n",
        "\n",
        "        val_loss /= val_total\n",
        "        val_acc = val_correct / val_total\n",
        "        scheduler.step(val_loss)\n",
        "\n",
        "        # Save best model (in memory)\n",
        "        if val_acc > best_val_acc:\n",
        "            best_val_acc = val_acc\n",
        "            best_model_wts = model.state_dict().copy()\n",
        "\n",
        "        train_loss_list.append(train_loss)\n",
        "        val_loss_list.append(val_loss)\n",
        "        train_acc_list.append(train_acc)\n",
        "        val_acc_list.append(val_acc)\n",
        "\n",
        "        print(f\"Epoch [{epoch+1}/{num_epochs}] \"\n",
        "              f\"Train Acc: {train_acc:.4f} | Val Acc: {val_acc:.4f} | \"\n",
        "              f\"Train Loss: {train_loss:.4f} | Val Loss: {val_loss:.4f}\")\n",
        "\n",
        "    # Load best model weights\n",
        "    if best_model_wts is not None:\n",
        "        model.load_state_dict(best_model_wts)\n",
        "        print(f\"\\n Loaded best model with Val Acc: {best_val_acc:.4f}\")\n",
        "\n",
        "    return model, train_loss_list, val_loss_list, train_acc_list, val_acc_list\n",
        "\n",
        "\n",
        "model, train_loss, val_loss, train_acc, val_acc = train_model(\n",
        "    model, train_loader, val_loader, criterion, optimizer, scheduler, num_epochs=30\n",
        ")"
      ],
      "metadata": {
        "colab": {
          "base_uri": "https://localhost:8080/"
        },
        "id": "8Dk8lHqbtHvO",
        "outputId": "7e6028df-eee5-4b10-d235-3c1e882171ab"
      },
      "execution_count": 27,
      "outputs": [
        {
          "output_type": "stream",
          "name": "stdout",
          "text": [
            "Epoch [1/30] Train Acc: 0.3634 | Val Acc: 0.4788 | Train Loss: 1.7103 | Val Loss: 1.4404\n",
            "Epoch [2/30] Train Acc: 0.5585 | Val Acc: 0.6282 | Train Loss: 1.2212 | Val Loss: 1.0276\n",
            "Epoch [3/30] Train Acc: 0.6377 | Val Acc: 0.6722 | Train Loss: 1.0235 | Val Loss: 0.8989\n",
            "Epoch [4/30] Train Acc: 0.6889 | Val Acc: 0.7192 | Train Loss: 0.8924 | Val Loss: 0.7955\n",
            "Epoch [5/30] Train Acc: 0.7236 | Val Acc: 0.7440 | Train Loss: 0.7972 | Val Loss: 0.7285\n",
            "Epoch [6/30] Train Acc: 0.7487 | Val Acc: 0.6714 | Train Loss: 0.7317 | Val Loss: 1.0536\n",
            "Epoch [7/30] Train Acc: 0.7696 | Val Acc: 0.7690 | Train Loss: 0.6761 | Val Loss: 0.6646\n",
            "Epoch [8/30] Train Acc: 0.7862 | Val Acc: 0.7909 | Train Loss: 0.6272 | Val Loss: 0.6163\n",
            "Epoch [9/30] Train Acc: 0.8063 | Val Acc: 0.8118 | Train Loss: 0.5748 | Val Loss: 0.5513\n",
            "Epoch [10/30] Train Acc: 0.8190 | Val Acc: 0.8021 | Train Loss: 0.5347 | Val Loss: 0.5751\n",
            "Epoch [11/30] Train Acc: 0.8304 | Val Acc: 0.8274 | Train Loss: 0.5022 | Val Loss: 0.5152\n",
            "Epoch [12/30] Train Acc: 0.8417 | Val Acc: 0.8390 | Train Loss: 0.4693 | Val Loss: 0.4735\n",
            "Epoch [13/30] Train Acc: 0.8518 | Val Acc: 0.8269 | Train Loss: 0.4433 | Val Loss: 0.5636\n",
            "Epoch [14/30] Train Acc: 0.8619 | Val Acc: 0.8096 | Train Loss: 0.4113 | Val Loss: 0.6180\n",
            "Epoch [15/30] Train Acc: 0.8689 | Val Acc: 0.8334 | Train Loss: 0.3828 | Val Loss: 0.5135\n",
            "Epoch [16/30] Train Acc: 0.8785 | Val Acc: 0.8504 | Train Loss: 0.3575 | Val Loss: 0.4871\n",
            "Epoch [17/30] Train Acc: 0.9100 | Val Acc: 0.8725 | Train Loss: 0.2703 | Val Loss: 0.4204\n",
            "Epoch [18/30] Train Acc: 0.9208 | Val Acc: 0.8756 | Train Loss: 0.2348 | Val Loss: 0.4136\n",
            "Epoch [19/30] Train Acc: 0.9244 | Val Acc: 0.8791 | Train Loss: 0.2227 | Val Loss: 0.4083\n",
            "Epoch [20/30] Train Acc: 0.9304 | Val Acc: 0.8767 | Train Loss: 0.2063 | Val Loss: 0.4131\n",
            "Epoch [21/30] Train Acc: 0.9356 | Val Acc: 0.8738 | Train Loss: 0.1905 | Val Loss: 0.4369\n",
            "Epoch [22/30] Train Acc: 0.9395 | Val Acc: 0.8732 | Train Loss: 0.1774 | Val Loss: 0.4403\n",
            "Epoch [23/30] Train Acc: 0.9424 | Val Acc: 0.8784 | Train Loss: 0.1700 | Val Loss: 0.4282\n",
            "Epoch [24/30] Train Acc: 0.9585 | Val Acc: 0.8859 | Train Loss: 0.1206 | Val Loss: 0.4302\n",
            "Epoch [25/30] Train Acc: 0.9628 | Val Acc: 0.8892 | Train Loss: 0.1083 | Val Loss: 0.4172\n",
            "Epoch [26/30] Train Acc: 0.9665 | Val Acc: 0.8861 | Train Loss: 0.0982 | Val Loss: 0.4430\n",
            "Epoch [27/30] Train Acc: 0.9683 | Val Acc: 0.8853 | Train Loss: 0.0952 | Val Loss: 0.4331\n",
            "Epoch [28/30] Train Acc: 0.9752 | Val Acc: 0.8888 | Train Loss: 0.0759 | Val Loss: 0.4430\n",
            "Epoch [29/30] Train Acc: 0.9777 | Val Acc: 0.8905 | Train Loss: 0.0676 | Val Loss: 0.4407\n",
            "Epoch [30/30] Train Acc: 0.9795 | Val Acc: 0.8919 | Train Loss: 0.0623 | Val Loss: 0.4481\n",
            "\n",
            " Loaded best model with Val Acc: 0.8919\n"
          ]
        }
      ]
    },
    {
      "cell_type": "code",
      "source": [
        "import torch\n",
        "import matplotlib.pyplot as plt\n",
        "import seaborn as sns\n",
        "from sklearn.metrics import confusion_matrix, classification_report\n",
        "import numpy as np\n",
        "\n",
        "# --- Evaluation Phase ---\n",
        "model.eval()\n",
        "all_preds = []\n",
        "all_labels = []\n",
        "\n",
        "with torch.no_grad():\n",
        "    for images, labels in test_loader:\n",
        "        images, labels = images.to(device), labels.to(device)\n",
        "        outputs = model(images)\n",
        "        _, preds = torch.max(outputs, 1)\n",
        "        all_preds.extend(preds.cpu().numpy())\n",
        "        all_labels.extend(labels.cpu().numpy())\n",
        "\n",
        "# --- Accuracy ---\n",
        "correct = np.sum(np.array(all_preds) == np.array(all_labels))\n",
        "total = len(all_labels)\n",
        "test_acc = correct / total\n",
        "print(f\"Test Accuracy: {test_acc:.4f}\")\n",
        "\n",
        "# --- Confusion Matrix ---\n",
        "cm = confusion_matrix(all_labels, all_preds)\n",
        "classes = test_loader.dataset.classes  # รายชื่อคลาสของ CIFAR-10\n",
        "\n",
        "plt.figure(figsize=(10,8))\n",
        "sns.heatmap(cm, annot=False, cmap='Blues')\n",
        "plt.title('Confusion Matrix (CIFAR-10)')\n",
        "plt.xlabel('Predicted')\n",
        "plt.ylabel('True')\n",
        "plt.show()\n",
        "\n",
        "\n",
        "print(\"\\nClassification Report:\")\n",
        "print(classification_report(all_labels, all_preds, target_names=classes))\n"
      ],
      "metadata": {
        "colab": {
          "base_uri": "https://localhost:8080/",
          "height": 1000
        },
        "collapsed": true,
        "id": "pgjX8XjGn3bY",
        "outputId": "594a0e10-3655-439e-ecd1-f3b1b3cde6e5"
      },
      "execution_count": 28,
      "outputs": [
        {
          "output_type": "stream",
          "name": "stdout",
          "text": [
            "Test Accuracy: 0.8886\n"
          ]
        },
        {
          "output_type": "display_data",
          "data": {
            "text/plain": [
              "<Figure size 1000x800 with 2 Axes>"
            ],
            "image/png": "[encoded data removed]"
          },
          "metadata": {}
        },
        {
          "output_type": "stream",
          "name": "stdout",
          "text": [
            "\n",
            "Classification Report:\n",
            "              precision    recall  f1-score   support\n",
            "\n",
            "    airplane       0.89      0.90      0.90      1000\n",
            "  automobile       0.95      0.93      0.94      1000\n",
            "        bird       0.87      0.84      0.86      1000\n",
            "         cat       0.82      0.74      0.78      1000\n",
            "        deer       0.90      0.87      0.88      1000\n",
            "         dog       0.79      0.87      0.83      1000\n",
            "        frog       0.92      0.93      0.93      1000\n",
            "       horse       0.90      0.92      0.91      1000\n",
            "        ship       0.94      0.93      0.93      1000\n",
            "       truck       0.90      0.95      0.92      1000\n",
            "\n",
            "    accuracy                           0.89     10000\n",
            "   macro avg       0.89      0.89      0.89     10000\n",
            "weighted avg       0.89      0.89      0.89     10000\n",
            "\n"
          ]
        }
      ]
    },
    {
      "cell_type": "code",
      "source": [
        "save_dir = \"./saved_models\"\n",
        "os.makedirs(save_dir, exist_ok=True)\n",
        "\n",
        "timestamp = datetime.now().strftime(\"%Y%m%d_%H%M%S\")\n",
        "model_path = os.path.join(save_dir, f\"BetterCNN_CIFAR10_{timestamp}.pth\")\n",
        "\n",
        "torch.save({\n",
        "    'model_state_dict': model.state_dict(),\n",
        "    'optimizer_state_dict': optimizer.state_dict(),\n",
        "    'test_accuracy': test_acc,\n",
        "    'val_accuracy': max(val_acc),\n",
        "    'epoch': len(train_loss),\n",
        "    'model_architecture': 'BetterCNN'\n",
        "}, model_path)\n",
        "\n",
        "print(f\"Model saved to: {model_path}\")\n"
      ],
      "metadata": {
        "colab": {
          "base_uri": "https://localhost:8080/"
        },
        "id": "r2phprcQtXix",
        "outputId": "b2670716-b506-4f33-8fff-700b50e80ea1"
      },
      "execution_count": 29,
      "outputs": [
        {
          "output_type": "stream",
          "name": "stdout",
          "text": [
            "Model saved to: ./saved_models/BetterCNN_CIFAR10_20251018_095425.pth\n"
          ]
        }
      ]
    }
  ]
}